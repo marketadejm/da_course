{
 "cells": [
  {
   "cell_type": "markdown",
   "id": "atomic-chest",
   "metadata": {},
   "source": [
    "# Grouping data across sheets\n",
    "\n",
    "Modify the previous exercise so that each product group is in a separate worksheet together with the corresponding `product_group_id`. For example\n",
    "`product_group_id` 1 should go to the sheet named `1`.\n",
    "\n",
    "Use the method to create a new workbook:\n",
    "```\n",
    "wb.create_sheet(name, index)\n",
    "```\n",
    "Where:\n",
    "- `name` - is the name of the workbook, where we want to save the data (should be a string),\n",
    "- `index` - is the worksheet position in the workbook."
   ]
  },
  {
   "cell_type": "code",
   "execution_count": 4,
   "id": "hybrid-shepherd",
   "metadata": {},
   "outputs": [],
   "source": [
    "import openpyxl\n",
    "import pandas as pd\n",
    "\n",
    "wb = openpyxl.load_workbook(r'../../01_Data/product_prices_cleaned.xlsx')\n",
    "\n",
    "df = pd.read_excel(r'../../01_Data/product_prices_cleaned.xlsx')\n",
    "\n",
    "\n",
    "\n",
    "for group_id in df[\"product_group_id\"].unique():\n",
    "    sheet_name = str(group_id)\n",
    "\n",
    "    if sheet_name in wb.sheetnames:\n",
    "        wb.remove(wb[sheet_name])\n",
    "        \n",
    "    ws = wb.create_sheet(title = sheet_name)\n",
    "\n",
    "    df_group = df[df[\"product_group_id\"] == group_id]\n",
    "\n",
    "    for row in df_group.itertuples(index=False, name=None):\n",
    "        ws.append(row)\n",
    "\n",
    "wb.save(r'../../01_Data/product_prices_cleaned.xlsx')"
   ]
  },
  {
   "cell_type": "code",
   "execution_count": null,
   "id": "7ec4920d-0b91-4ccb-b8d6-1d7b806a0caf",
   "metadata": {},
   "outputs": [],
   "source": [
    "import openpyxl\n",
    "import pandas as pd\n",
    "\n",
    "\n",
    "# Načtení dat z Excelu pomocí pandas\n",
    "df = pd.read_excel(r'../../01_Data/product_prices_cleaned.xlsx')\n",
    "\n",
    "# Vytvoření nového sešitu\n",
    "wb = openpyxl.Workbook()\n",
    "wb.remove(wb.active)  # Smazání výchozího prázdného listu\n",
    "\n",
    "# Procházení unikátních hodnot product_group_id\n",
    "for group_id in df[\"product_group_id\"].unique():\n",
    "    # Vytvoření nového listu pojmenovaného podle group_id\n",
    "    ws = wb.create_sheet(title=str(group_id))\n",
    "\n",
    "    # Filtrování dat podle aktuálního product_group_id\n",
    "    df_group = df[df[\"product_group_id\"] == group_id]\n",
    "\n",
    "    # Přidání záhlaví\n",
    "    ws.append(df_group.columns.tolist())\n",
    "\n",
    "    # Přidání dat\n",
    "    for row in df_group.itertuples(index=False, name=None):\n",
    "        ws.append(row)\n",
    "\n",
    "# Uložení Excel souboru\n",
    "wb.save(r'../../01_Data/product_prices_separated.xlsx')"
   ]
  }
 ],
 "metadata": {
  "kernelspec": {
   "display_name": "Python [conda env:base] *",
   "language": "python",
   "name": "conda-base-py"
  },
  "language_info": {
   "codemirror_mode": {
    "name": "ipython",
    "version": 3
   },
   "file_extension": ".py",
   "mimetype": "text/x-python",
   "name": "python",
   "nbconvert_exporter": "python",
   "pygments_lexer": "ipython3",
   "version": "3.12.7"
  }
 },
 "nbformat": 4,
 "nbformat_minor": 5
}
