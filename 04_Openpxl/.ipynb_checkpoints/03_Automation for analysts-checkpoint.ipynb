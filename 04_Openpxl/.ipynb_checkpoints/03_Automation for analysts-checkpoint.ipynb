{
 "cells": [
  {
   "cell_type": "markdown",
   "id": "common-ghost",
   "metadata": {},
   "source": [
    "# Automation for the analyst\n",
    "\n",
    "A team of analysts prepares the monthly report on the prices of the product selected by the Board. Because they are aware you know Python, they asked you to automate the process. Talking to the team, you have set the following business conditions that enable process automation:\n",
    "\n",
    "Three report parameters are available:\n",
    "- **product_group_id**,\n",
    "- **product**,\n",
    "- **date**.\n",
    "\n",
    "Assumptions for each parameter:\n",
    "\n",
    "1. A parameter may have at most one value,\n",
    "1. If the parameter is empty we return all records from the group,\n",
    "1. We assume that the file is always prepared correctly (we want to practice report automation, not error handling).\n",
    "\n",
    "Based on the above requirements:\n",
    "\n",
    "1. load the  **config.xlsx** file using `openpyxl`,\n",
    "1. prepare appropriate conditions to filter data from **product_cleaned.csv**,\n",
    "1. based on the conditions filter the frame,\n",
    "1. aggregate the data using a **pivot_table**:\n",
    "   a) index-product, province,\n",
    "   b) columns-dates,\n",
    "   c) value-average product price,\n",
    "   d) remember to remove 0,\n",
    "6. save the file to the spreadsheet any way you want.\n",
    "\n",
    "Hints:\n",
    "\n",
    "1. You can save individual filtering conditions to variables and then use them all to filter `DataFrame`, the same as writing them all as before i.e. `df.loc[var1 & var2]`\n",
    "1. If you decide to write with Pandas, be careful with the parameters passed to the function (what happens if you set `index=False`?). Link to the [documentation](https://pandas.pydata.org/pandas-docs/stable/reference/api/pandas.DataFrame.to_excel.html)."
   ]
  },
  {
   "cell_type": "code",
   "execution_count": 4,
   "id": "practical-excitement",
   "metadata": {},
   "outputs": [],
   "source": [
    "import pandas as pd\n",
    "import openpyxl\n",
    "\n",
    "wb = openpyxl.load_workbook(r'../../01_Data/config.xlsx')\n",
    "sheet = wb.active\n",
    "\n",
    "product_group_id = None\n",
    "product = None\n",
    "date = None"
   ]
  },
  {
   "cell_type": "code",
   "execution_count": 6,
   "id": "3e9ec8da-93de-471d-9458-06492ded4af8",
   "metadata": {},
   "outputs": [],
   "source": [
    "for row in sheet.iter_rows(values_only=True):\n",
    "    if row[0] == \"product_group\":\n",
    "        product_group_id = row[1]\n",
    "    elif row[0] == \"product\":\n",
    "        product = row[1]\n",
    "    elif row[0] == date:\n",
    "        product = row[1]"
   ]
  },
  {
   "cell_type": "code",
   "execution_count": 8,
   "id": "bc8eea7d-1c50-4db4-879d-6952d2909e43",
   "metadata": {},
   "outputs": [],
   "source": [
    "\n",
    "df_cleaned = pd.read_csv(\n",
    "    r'../../01_Data/product_prices_cleaned.csv',\n",
    "    sep = \";\",\n",
    "    encoding = \"UTF-8\",\n",
    "    decimal = \".\",\n",
    "    parse_dates=[\"date\"]\n",
    ")"
   ]
  },
  {
   "cell_type": "code",
   "execution_count": null,
   "id": "c5afcf0a-2836-4615-ae1e-42e0a63f5221",
   "metadata": {},
   "outputs": [],
   "source": [
    "if product_group_id is not None:\n",
    "    df = df[df[\"product_group_id\"] == product_group_id]"
   ]
  },
  {
   "cell_type": "code",
   "execution_count": null,
   "id": "ca8d47f3-853c-4c81-8451-2ec2335388cf",
   "metadata": {},
   "outputs": [],
   "source": [
    "import pandas as pd\n",
    "import openpyxl\n",
    "\n",
    "# 1️⃣ Načtení config.xlsx pomocí openpyxl\n",
    "config_path = \"../../01_Data/config.xlsx\"\n",
    "wb = openpyxl.load_workbook(config_path)\n",
    "sheet = wb.active  # První (aktivní) list\n",
    "\n",
    "# 2️⃣ Ruční přiřazení hodnot z jednotlivých řádků\n",
    "product_group_id = None\n",
    "product = None\n",
    "date = None\n",
    "\n",
    "for row in sheet.iter_rows(values_only=True):\n",
    "    if row[0] == \"product_group\":\n",
    "        product_group_id = row[1]\n",
    "    elif row[0] == \"product\":\n",
    "        product = row[1]\n",
    "    elif row[0] == \"date\":\n",
    "        date = row[1]\n",
    "\n",
    "# 3️⃣ Načtení datového souboru product_cleaned.csv\n",
    "df = pd.read_csv(\"../../01_Data/product_cleaned.csv\", sep=\";\")\n",
    "\n",
    "# 4️⃣ Filtrace podle podmínek\n",
    "if product_group_id is not None:\n",
    "    df = df[df[\"product_group_id\"] == product_group_id]\n",
    "\n",
    "if product is not None:\n",
    "    df = df[df[\"product\"] == product]\n",
    "\n",
    "if date is not None:\n",
    "    df = df[df[\"date\"] == date]\n",
    "\n",
    "# 5️⃣ Vytvoření pivot tabulky\n",
    "pivot = pd.pivot_table(\n",
    "    data=df,\n",
    "    index=[\"product\", \"province\"],\n",
    "    columns=[\"date\"],\n",
    "    values=[\"value\"],\n",
    "    aggfunc=\"mean\"\n",
    ")\n",
    "\n",
    "# 6️⃣ Odstranění nulových hodnot\n",
    "pivot = pivot.replace(0, pd.NA).dropna(how=\"all\")\n",
    "\n",
    "# 7️⃣ Uložení výsledku do report.xlsx\n",
    "output_path = \"../../01_Data/report.xlsx\"\n",
    "pivot.to_excel(output_path)\n",
    "\n",
    "print(f\"Report byl uložen jako {output_path}\")\n"
   ]
  }
 ],
 "metadata": {
  "kernelspec": {
   "display_name": "Python [conda env:base] *",
   "language": "python",
   "name": "conda-base-py"
  },
  "language_info": {
   "codemirror_mode": {
    "name": "ipython",
    "version": 3
   },
   "file_extension": ".py",
   "mimetype": "text/x-python",
   "name": "python",
   "nbconvert_exporter": "python",
   "pygments_lexer": "ipython3",
   "version": "3.12.7"
  }
 },
 "nbformat": 4,
 "nbformat_minor": 5
}
