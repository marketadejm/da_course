{
 "cells": [
  {
   "cell_type": "markdown",
   "id": "welsh-flower",
   "metadata": {},
   "source": [
    "# File conversion\n",
    "\n",
    "Using `openpyxl` convert the **product_prices_cleaned.csv** file to an Excel file."
   ]
  },
  {
   "cell_type": "code",
   "execution_count": 10,
   "id": "60cb3e72-4226-4359-9668-07070f18c9f9",
   "metadata": {},
   "outputs": [],
   "source": [
    "import openpyxl\n",
    "\n",
    "import pandas as pd\n",
    "\n",
    "df = pd.read_csv(\n",
    "    r'../../01_Data/product_prices_cleaned.csv',\n",
    "    sep = \";\",\n",
    "    encoding = \"UTF-8\",\n",
    "    decimal = \".\",\n",
    "    parse_dates=[\"date\"]\n",
    ")\n",
    "\n",
    "df.to_excel(\n",
    "    r'../../01_Data/product_prices_cleaned.xlsx',\n",
    "    index=False,\n",
    "    engine=\"openpyxl\"\n",
    ")"
   ]
  },
  {
   "cell_type": "code",
   "execution_count": 2,
   "id": "composed-coast",
   "metadata": {},
   "outputs": [],
   "source": [
    "import openpyxl  # we import the library\n",
    "# we create a new Workbook-type object\n",
    "wb = openpyxl.Workbook()  # standard convention\n",
    "ws = wb.active  # select the active workbook\n",
    "# write the data to cell A1\n",
    "ws['A1'] = 'Hello world'  # notice the [] operator\n",
    "# the following form is also allowed\n",
    "# ws.cell(row=1, column=1, value='Hello world')\n",
    "wb.save('./hello_world.xlsx')  # save the file"
   ]
  },
  {
   "cell_type": "code",
   "execution_count": 4,
   "id": "ce31a172-3cf7-4ec0-9726-d02130f2eb97",
   "metadata": {},
   "outputs": [
    {
     "name": "stdout",
     "output_type": "stream",
     "text": [
      "['Sheet']\n"
     ]
    },
    {
     "data": {
      "text/plain": [
       "'Hello world'"
      ]
     },
     "execution_count": 4,
     "metadata": {},
     "output_type": "execute_result"
    }
   ],
   "source": [
    "wb = openpyxl.load_workbook('./hello_world.xlsx')  # open an existing file\n",
    "print(wb.sheetnames)  # list of available workbooks\n",
    "ws = wb['Sheet'] # we indicate from which workbook we want to load the data\n",
    "# we indicate the cell in a way similar to saving, but to read, we need to add value\n",
    "ws['A1'].value"
   ]
  },
  {
   "cell_type": "code",
   "execution_count": 6,
   "id": "8369f264-0d81-4ef7-bd58-4653954a6ccc",
   "metadata": {},
   "outputs": [],
   "source": [
    "import pandas as pd\n",
    "from openpyxl.utils.dataframe import dataframe_to_rows\n",
    "df = pd.DataFrame([['fiat 126p', 105, 630], ['golf II', 148, 920], ['tico', 143, 670]],\n",
    "                     columns=['model','max_speed', 'weight'])\n",
    "wb = openpyxl.Workbook()\n",
    "ws = wb.active\n",
    "for car in dataframe_to_rows(df, index=False, header=True):\n",
    "    ws.append(car)   # save data\n",
    "wb.save('./cars.xlsx')"
   ]
  },
  {
   "cell_type": "code",
   "execution_count": null,
   "id": "40ac1e2d-5ef1-477a-aeb8-2e6b168ad297",
   "metadata": {},
   "outputs": [],
   "source": []
  }
 ],
 "metadata": {
  "kernelspec": {
   "display_name": "Python [conda env:base] *",
   "language": "python",
   "name": "conda-base-py"
  },
  "language_info": {
   "codemirror_mode": {
    "name": "ipython",
    "version": 3
   },
   "file_extension": ".py",
   "mimetype": "text/x-python",
   "name": "python",
   "nbconvert_exporter": "python",
   "pygments_lexer": "ipython3",
   "version": "3.12.7"
  }
 },
 "nbformat": 4,
 "nbformat_minor": 5
}
